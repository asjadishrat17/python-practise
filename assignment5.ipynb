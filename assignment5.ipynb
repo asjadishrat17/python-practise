{
 "cells": [
  {
   "cell_type": "markdown",
   "metadata": {},
   "source": [
    "# Assignment5"
   ]
  },
  {
   "cell_type": "raw",
   "metadata": {},
   "source": [
    "Write a Python function to calculate the factorial of a number (a non-negative\n",
    "integer). The function accepts the number as an argument."
   ]
  },
  {
   "cell_type": "code",
   "execution_count": 57,
   "metadata": {},
   "outputs": [
    {
     "name": "stdout",
     "output_type": "stream",
     "text": [
      "enter no for factorial\n",
      "4\n",
      "factorial of 4 is 24\n"
     ]
    }
   ],
   "source": [
    "def factorial(num1):\n",
    "    for i in range(1,num1):\n",
    "        fact=num1*i\n",
    "        num1=fact\n",
    "    print(\"factorial of {} is {}\".format(i+1,fact))\n",
    "\n",
    "def num_test(num1):\n",
    "    try:\n",
    "        factorial(int(num1))\n",
    "    except:\n",
    "        ValueError,TypeError\n",
    "        print(\"number must be integer\")\n",
    "        \n",
    "num1=input(\"enter no for factorial\\n\")\n",
    "num_test(num1)    "
   ]
  },
  {
   "cell_type": "raw",
   "metadata": {},
   "source": [
    "Question:2\n",
    "Write a Python function that accepts a string and calculate the number of upper\n",
    "case letters and lower case letters."
   ]
  },
  {
   "cell_type": "code",
   "execution_count": 54,
   "metadata": {},
   "outputs": [
    {
     "data": {
      "text/plain": [
       "5"
      ]
     },
     "execution_count": 54,
     "metadata": {},
     "output_type": "execute_result"
    }
   ],
   "source": [
    "def upper_lower(string):"
   ]
  },
  {
   "cell_type": "code",
   "execution_count": null,
   "metadata": {},
   "outputs": [],
   "source": []
  }
 ],
 "metadata": {
  "kernelspec": {
   "display_name": "Python 3",
   "language": "python",
   "name": "python3"
  },
  "language_info": {
   "codemirror_mode": {
    "name": "ipython",
    "version": 3
   },
   "file_extension": ".py",
   "mimetype": "text/x-python",
   "name": "python",
   "nbconvert_exporter": "python",
   "pygments_lexer": "ipython3",
   "version": "3.7.0"
  }
 },
 "nbformat": 4,
 "nbformat_minor": 2
}
