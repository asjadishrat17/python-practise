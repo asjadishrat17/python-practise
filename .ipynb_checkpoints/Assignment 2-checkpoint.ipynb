{
 "cells": [
  {
   "cell_type": "markdown",
   "metadata": {},
   "source": [
    "# Assignment 2"
   ]
  },
  {
   "cell_type": "code",
   "execution_count": 1,
   "metadata": {},
   "outputs": [
    {
     "data": {
      "text/plain": [
       "'Write a program which take input from user and identify that the given\\nnumber is even or odd?'"
      ]
     },
     "execution_count": 1,
     "metadata": {},
     "output_type": "execute_result"
    }
   ],
   "source": [
    "\"\"\"Write a program which take input from user and identify that the given\n",
    "number is even or odd?\"\"\""
   ]
  },
  {
   "cell_type": "code",
   "execution_count": 2,
   "metadata": {},
   "outputs": [
    {
     "name": "stdout",
     "output_type": "stream",
     "text": [
      "Enter the number to check whether it is even or odd = 2\n",
      "Number is even\n"
     ]
    }
   ],
   "source": [
    "number=int(input(\"Enter the number to check whether it is even or odd =\"+\" \"))\n",
    "if number%2==0:\n",
    "    print(\"Number is even\")\n",
    "else:\n",
    "    print(\"Number is odd\")"
   ]
  },
  {
   "cell_type": "code",
   "execution_count": 3,
   "metadata": {},
   "outputs": [
    {
     "data": {
      "text/plain": [
       "'Write a program which print the length of the list?'"
      ]
     },
     "execution_count": 3,
     "metadata": {},
     "output_type": "execute_result"
    }
   ],
   "source": [
    "\"\"\"Write a program which print the length of the list?\"\"\""
   ]
  },
  {
   "cell_type": "code",
   "execution_count": 4,
   "metadata": {},
   "outputs": [
    {
     "data": {
      "text/plain": [
       "5"
      ]
     },
     "execution_count": 4,
     "metadata": {},
     "output_type": "execute_result"
    }
   ],
   "source": [
    "list_cities=[\"karachi\",\"lahore\",\"islamabad\",\"multan\",\"quetta\"]\n",
    "len(list_cities)"
   ]
  },
  {
   "cell_type": "code",
   "execution_count": 5,
   "metadata": {},
   "outputs": [
    {
     "data": {
      "text/plain": [
       "'Take a list, say for example this one:\\na = [1, 1, 2, 3, 5, 8, 13, 21, 34, 55, 89]\\nand write a program that prints out all the elements of the list that are\\nless than 5.'"
      ]
     },
     "execution_count": 5,
     "metadata": {},
     "output_type": "execute_result"
    }
   ],
   "source": [
    "\"\"\"Take a list, say for example this one:\n",
    "a = [1, 1, 2, 3, 5, 8, 13, 21, 34, 55, 89]\n",
    "and write a program that prints out all the elements of the list that are\n",
    "less than 5.\"\"\""
   ]
  },
  {
   "cell_type": "code",
   "execution_count": 6,
   "metadata": {},
   "outputs": [
    {
     "name": "stdout",
     "output_type": "stream",
     "text": [
      "1\n",
      "1\n",
      "2\n",
      "3\n"
     ]
    }
   ],
   "source": [
    "a=[1,1,2,3,5,8,13,21,34,55,89]\n",
    "for i in a:\n",
    "    if(i<5):\n",
    "        print(i)"
   ]
  },
  {
   "cell_type": "code",
   "execution_count": 7,
   "metadata": {},
   "outputs": [
    {
     "data": {
      "text/plain": [
       "'Write a Python program to sum all the numeric items in a list?'"
      ]
     },
     "execution_count": 7,
     "metadata": {},
     "output_type": "execute_result"
    }
   ],
   "source": [
    "\"\"\"Write a Python program to sum all the numeric items in a list?\"\"\""
   ]
  },
  {
   "cell_type": "code",
   "execution_count": 8,
   "metadata": {},
   "outputs": [
    {
     "data": {
      "text/plain": [
       "15"
      ]
     },
     "execution_count": 8,
     "metadata": {},
     "output_type": "execute_result"
    }
   ],
   "source": [
    "list=[1,2,3,4,5] #done using predefined function sum\n",
    "sum(list)"
   ]
  },
  {
   "cell_type": "code",
   "execution_count": 9,
   "metadata": {},
   "outputs": [
    {
     "name": "stdout",
     "output_type": "stream",
     "text": [
      "15\n"
     ]
    }
   ],
   "source": [
    "list_1=[1,2,3,4,5] #done using for loop\n",
    "a=0\n",
    "for i in list_1:\n",
    "    a=a+i\n",
    "print(a)"
   ]
  },
  {
   "cell_type": "code",
   "execution_count": 10,
   "metadata": {},
   "outputs": [
    {
     "data": {
      "text/plain": [
       "'Write a Python program to get the largest number from a numeric list.'"
      ]
     },
     "execution_count": 10,
     "metadata": {},
     "output_type": "execute_result"
    }
   ],
   "source": [
    "\"\"\"Write a Python program to get the largest number from a numeric list.\"\"\""
   ]
  },
  {
   "cell_type": "code",
   "execution_count": 11,
   "metadata": {},
   "outputs": [
    {
     "data": {
      "text/plain": [
       "14"
      ]
     },
     "execution_count": 11,
     "metadata": {},
     "output_type": "execute_result"
    }
   ],
   "source": [
    "list1=[10,11,12,13,14] #done suing max predefined function\n",
    "max(list1)"
   ]
  },
  {
   "cell_type": "code",
   "execution_count": 12,
   "metadata": {},
   "outputs": [
    {
     "name": "stdout",
     "output_type": "stream",
     "text": [
      "17\n"
     ]
    }
   ],
   "source": [
    "list_2=[10,11,2,15,17]\n",
    "large=list_2[0]\n",
    "for i in list_2:\n",
    "    if i>large:\n",
    "        large=i\n",
    "print(large)"
   ]
  },
  {
   "cell_type": "code",
   "execution_count": 13,
   "metadata": {},
   "outputs": [
    {
     "data": {
      "text/plain": [
       "'Write a program which takes 5 inputs from user for different subject’s\\nmarks, total it and generate mark sheet using grades ?'"
      ]
     },
     "execution_count": 13,
     "metadata": {},
     "output_type": "execute_result"
    }
   ],
   "source": [
    "\"\"\"Write a program which takes 5 inputs from user for different subject’s\n",
    "marks, total it and generate mark sheet using grades ?\"\"\""
   ]
  },
  {
   "cell_type": "code",
   "execution_count": 15,
   "metadata": {},
   "outputs": [
    {
     "name": "stdout",
     "output_type": "stream",
     "text": [
      "How many subjects: 3\n",
      "Enter Marks 30\n",
      "Enter Marks 40\n",
      "Enter Marks 50\n",
      "Total = 120\n",
      "50  D\n",
      "50  fail\n"
     ]
    }
   ],
   "source": [
    "subject_marks = []\n",
    "num = int(input('How many subjects: '))\n",
    "for n in range(num):\n",
    "    numbers = int(input('Enter Marks '))\n",
    "    subject_marks.append(numbers)\n",
    "Total=sum(subject_marks)\n",
    "print(\"Total =\",Total)\n",
    "for i in subject_marks:\n",
    "    if i>=90:\n",
    "        print(i,\" \"+\"A+\")\n",
    "    if i<90 and i>75:\n",
    "        print(i,\" \"+\"A\")\n",
    "    if i<75 and i>=65:\n",
    "        print(i,\" \"+\"B\")\n",
    "    if i<65 and i>=55:\n",
    "        print(i,\" \"+\"C\")\n",
    "    if i<55 and i>=50:\n",
    "        print(i,\" \"+\"D\")\n",
    "else:\n",
    "    print(i,\" \"+\"fail\")"
   ]
  },
  {
   "cell_type": "code",
   "execution_count": null,
   "metadata": {},
   "outputs": [],
   "source": []
  },
  {
   "cell_type": "code",
   "execution_count": null,
   "metadata": {},
   "outputs": [],
   "source": []
  }
 ],
 "metadata": {
  "kernelspec": {
   "display_name": "Python 3",
   "language": "python",
   "name": "python3"
  },
  "language_info": {
   "codemirror_mode": {
    "name": "ipython",
    "version": 3
   },
   "file_extension": ".py",
   "mimetype": "text/x-python",
   "name": "python",
   "nbconvert_exporter": "python",
   "pygments_lexer": "ipython3",
   "version": "3.7.0"
  }
 },
 "nbformat": 4,
 "nbformat_minor": 2
}
