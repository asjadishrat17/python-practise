{
 "cells": [
  {
   "cell_type": "markdown",
   "metadata": {},
   "source": [
    "# Question 1"
   ]
  },
  {
   "cell_type": "raw",
   "metadata": {},
   "source": [
    "Q1. Use a dictionary to store information about a person you know. Store their first name, last name, age,\n",
    "and the city in which they live. You should have keys such as first_name, last_name, age, and city. \n",
    "Print each piece of information stored in your dictionary. Add a new key value pair about qualification \n",
    "then update the qualification value to high academic level then delete it."
   ]
  },
  {
   "cell_type": "code",
   "execution_count": 26,
   "metadata": {},
   "outputs": [],
   "source": [
    "bio_data={\"first_name\":\"asjad\",\n",
    "          \"last_last\" :\"ishrat\",\n",
    "          \"age\":24,\n",
    "          \"city\":\"karachi\"}"
   ]
  },
  {
   "cell_type": "code",
   "execution_count": 4,
   "metadata": {},
   "outputs": [
    {
     "data": {
      "text/plain": [
       "{'first_name': 'asjad', 'last_last': 'ishrat', 'age': 24, 'city': 'karachi'}"
      ]
     },
     "execution_count": 4,
     "metadata": {},
     "output_type": "execute_result"
    }
   ],
   "source": [
    "bio_data"
   ]
  },
  {
   "cell_type": "code",
   "execution_count": 15,
   "metadata": {},
   "outputs": [],
   "source": [
    "bio_data.update({\"qualification\":\"graduation\"})"
   ]
  },
  {
   "cell_type": "code",
   "execution_count": 16,
   "metadata": {},
   "outputs": [
    {
     "data": {
      "text/plain": [
       "{'first_name': 'asjad',\n",
       " 'last_last': 'ishrat',\n",
       " 'age': 24,\n",
       " 'city': 'karachi',\n",
       " 'qualification': 'graduation'}"
      ]
     },
     "execution_count": 16,
     "metadata": {},
     "output_type": "execute_result"
    }
   ],
   "source": [
    "bio_data"
   ]
  },
  {
   "cell_type": "code",
   "execution_count": 23,
   "metadata": {},
   "outputs": [],
   "source": [
    "del bio_data[\"qualification\"]\n"
   ]
  },
  {
   "cell_type": "code",
   "execution_count": 25,
   "metadata": {},
   "outputs": [
    {
     "data": {
      "text/plain": [
       "{'first_name': 'asjad', 'last_last': 'ishrat', 'age': 24, 'city': 'karachi'}"
      ]
     },
     "execution_count": 25,
     "metadata": {},
     "output_type": "execute_result"
    }
   ],
   "source": [
    "bio_data"
   ]
  },
  {
   "cell_type": "markdown",
   "metadata": {},
   "source": [
    "# Question 2"
   ]
  },
  {
   "cell_type": "raw",
   "metadata": {},
   "source": [
    "\n",
    "Q2. Make a dictionary called cities. Use the names of three cities as keys in your dictionary.\n",
    "Create a dictionary of information about each city and include the country that the city is in,\n",
    "its approximate population, and one fact about that city. The keys for each city’s dictionary should be \n",
    "something like country, population, and fact. Print the name of each city and all of the information you have\n",
    "stored about it."
   ]
  },
  {
   "cell_type": "code",
   "execution_count": 9,
   "metadata": {},
   "outputs": [
    {
     "name": "stdout",
     "output_type": "stream",
     "text": [
      "karachi {'fact': 'the city of light', 'country': 'pakistan', 'population': '30 million'}\n",
      "lahore {'fact': 'the capital of province punjab', 'country': 'pakistan', 'population': '10 million'}\n",
      "islamabad {'fact': 'the capital of pakistan', 'country': 'pakistan', 'population': '10 million'}\n"
     ]
    }
   ],
   "source": [
    "city={\"karachi\":{\"fact\":\"the city of light\",\n",
    "                 \"country\":\"pakistan\",\n",
    "                 \"population\":\"30 million\"},\n",
    "      \"lahore\" :{\"fact\":\"the capital of province punjab\",\n",
    "                 \"country\":\"pakistan\",\n",
    "                 \"population\":\"10 million\"},\n",
    "          \"islamabad\":{\"fact\":\"the capital of pakistan\",\n",
    "                 \"country\":\"pakistan\",\n",
    "                 \"population\":\"10 million\"}}\n",
    "for key, value in city.items() :\n",
    "    print (key,value)"
   ]
  },
  {
   "cell_type": "code",
   "execution_count": 6,
   "metadata": {},
   "outputs": [
    {
     "data": {
      "text/plain": [
       "'the city of light'"
      ]
     },
     "execution_count": 6,
     "metadata": {},
     "output_type": "execute_result"
    }
   ],
   "source": [
    "city[\"karachi\"][\"fact\"]"
   ]
  },
  {
   "cell_type": "markdown",
   "metadata": {},
   "source": [
    "#                                                                                                                                                        # Question 3"
   ]
  },
  {
   "cell_type": "raw",
   "metadata": {},
   "source": [
    "Q3. A movie theater charges different ticket prices depending on a person’s age. If a person is under the age of 3,\n",
    "the ticket is free; if they are between 3 and 12, the ticket is $10; and if they are over age 12, the ticket is $15.\n",
    "Write a loop in which you ask users their age, and then tell them the cost of their movie ticket."
   ]
  },
  {
   "cell_type": "code",
   "execution_count": 2,
   "metadata": {},
   "outputs": [
    {
     "name": "stdout",
     "output_type": "stream",
     "text": [
      "How many members: 2\n",
      "Enter Age 4\n",
      "Enter Age 2\n",
      "For 4 years ticket price is $10\n",
      "For 2 years ticket is free\n"
     ]
    }
   ],
   "source": [
    "family_members = []\n",
    "num = int(input('How many members: '))\n",
    "for n in range(num):\n",
    "    age = int(input('Enter Age '))\n",
    "    family_members.append(age)\n",
    "for i in family_members:\n",
    "    \n",
    "    if i<3:\n",
    "        print(\"For\",i,\"years ticket is free\")\n",
    "    if i>=3 and i<=12:\n",
    "        print(\"For\",i,\"years ticket price is $10\")\n",
    "    if i>12:\n",
    "        print(\"For\",i,\"years ticket price is $15 \")"
   ]
  },
  {
   "cell_type": "markdown",
   "metadata": {},
   "source": [
    "# Question 4"
   ]
  },
  {
   "cell_type": "raw",
   "metadata": {},
   "source": [
    "\n",
    "Q4. Write a function called favorite_book() that accepts one parameter, title. The function should print a message, \n",
    "such as One of my favorite books is Alice in Wonderland. Call the function,\n",
    "making sure to include a book title as an argument in the function call."
   ]
  },
  {
   "cell_type": "code",
   "execution_count": 5,
   "metadata": {},
   "outputs": [
    {
     "name": "stdout",
     "output_type": "stream",
     "text": [
      "my favourite book is  smart way to learn javascript\n"
     ]
    }
   ],
   "source": [
    "def fbook(book_title):\n",
    "    print(\"my favourite book is\"+\" \", book_title)\n",
    "    \n",
    "fbook(\"smart way to learn javascript\")"
   ]
  },
  {
   "cell_type": "markdown",
   "metadata": {},
   "source": [
    "# Question 5"
   ]
  },
  {
   "cell_type": "raw",
   "metadata": {},
   "source": [
    "\n",
    "Q5. Guess the number game Write a program which randomly generate a number between 1 to 30 and ask the user in input\n",
    "field to guess the correct number. Give three chances to user guess the number and also give hint to user \n",
    "if hidden number is greater or smaller than the number he given to input field."
   ]
  },
  {
   "cell_type": "code",
   "execution_count": null,
   "metadata": {},
   "outputs": [],
   "source": [
    "import random\n",
    "print(\"welcome to guessing game\")\n",
    "rand_num=random.randint(1, 30)\n",
    "print(rand_num)\n",
    "correct=0;\n",
    "for i in range(0,3):\n",
    "    user_num=int(input())\n",
    "    if user_num > rand_num :\n",
    "        print(\"you enter greater number\")\n",
    "    elif user_num < rand_num :\n",
    "        print(\"you enter smaller number\")\n",
    "    elif user_num == rand_num :\n",
    "        print(\"you guess correct number\")\n",
    "        correct=1;\n",
    "        break;\n",
    "print (correct)"
   ]
  },
  {
   "cell_type": "code",
   "execution_count": null,
   "metadata": {},
   "outputs": [],
   "source": []
  },
  {
   "cell_type": "code",
   "execution_count": null,
   "metadata": {},
   "outputs": [],
   "source": []
  }
 ],
 "metadata": {
  "kernelspec": {
   "display_name": "Python 3",
   "language": "python",
   "name": "python3"
  },
  "language_info": {
   "codemirror_mode": {
    "name": "ipython",
    "version": 3
   },
   "file_extension": ".py",
   "mimetype": "text/x-python",
   "name": "python",
   "nbconvert_exporter": "python",
   "pygments_lexer": "ipython3",
   "version": "3.7.0"
  }
 },
 "nbformat": 4,
 "nbformat_minor": 2
}
