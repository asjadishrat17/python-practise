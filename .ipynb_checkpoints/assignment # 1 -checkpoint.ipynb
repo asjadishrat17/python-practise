{
 "cells": [
  {
   "cell_type": "code",
   "execution_count": 1,
   "metadata": {},
   "outputs": [
    {
     "data": {
      "text/plain": [
       "' Write a python program which takes two inputs from user and print their sum'"
      ]
     },
     "execution_count": 1,
     "metadata": {},
     "output_type": "execute_result"
    }
   ],
   "source": [
    "\"\"\" Write a python program which takes two inputs from user and print their sum\"\"\""
   ]
  },
  {
   "cell_type": "code",
   "execution_count": 3,
   "metadata": {},
   "outputs": [
    {
     "name": "stdout",
     "output_type": "stream",
     "text": [
      "enter value of a10\n",
      "enter value of b20\n",
      "30\n"
     ]
    }
   ],
   "source": [
    "a=int(input('enter value of a'))\n",
    "b=int(input('enter value of b'))\n",
    "c=a+b\n",
    "print(c)"
   ]
  },
  {
   "cell_type": "code",
   "execution_count": 4,
   "metadata": {},
   "outputs": [
    {
     "data": {
      "text/plain": [
       "\"Write a Python program which accepts the user's first and last name and print them in reverse order with a space between them\""
      ]
     },
     "execution_count": 4,
     "metadata": {},
     "output_type": "execute_result"
    }
   ],
   "source": [
    "\"\"\"Write a Python program which accepts the user's first and last name and print them in reverse order with a space between them\"\"\""
   ]
  },
  {
   "cell_type": "code",
   "execution_count": 5,
   "metadata": {},
   "outputs": [
    {
     "name": "stdout",
     "output_type": "stream",
     "text": [
      "Enter your first name asjad\n",
      "Enter your last name ishrat\n",
      "Hello ishrat asjad\n"
     ]
    }
   ],
   "source": [
    "fname=input(\"Enter your first name\"+\" \")\n",
    "lname=input(\"Enter your last name\"+\" \")\n",
    "print(\"Hello\"+\" \"+lname+\" \"+fname)"
   ]
  },
  {
   "cell_type": "code",
   "execution_count": 6,
   "metadata": {},
   "outputs": [
    {
     "data": {
      "text/plain": [
       "'Write a Python program which accepts the radius of a circle from the user and compute the area.'"
      ]
     },
     "execution_count": 6,
     "metadata": {},
     "output_type": "execute_result"
    }
   ],
   "source": [
    "\"\"\"Write a Python program which accepts the radius of a circle from the user and compute the area.\"\"\""
   ]
  },
  {
   "cell_type": "code",
   "execution_count": 7,
   "metadata": {},
   "outputs": [
    {
     "name": "stdout",
     "output_type": "stream",
     "text": [
      "Enter the radius of the circle 20\n",
      "Area of the circle is 1256.6370614359173\n"
     ]
    }
   ],
   "source": [
    "import math as mh\n",
    "radius=float(input(\"Enter the radius of the circle\"+\" \"))\n",
    "area=mh.pi*radius**2\n",
    "print(\"Area of the circle is\"+\" \"+str(area))"
   ]
  },
  {
   "cell_type": "code",
   "execution_count": 8,
   "metadata": {},
   "outputs": [
    {
     "data": {
      "text/plain": [
       "'Write a Python program to print the following string in a specific format \\n(see the output). \\nTwinkle, twinkle, little star, \\n   How I wonder what you are! \\n      Up above the world so high, \\n      Like a diamond in the sky. Twinkle, twinkle, little star, \\nHow I wonder what you are '"
      ]
     },
     "execution_count": 8,
     "metadata": {},
     "output_type": "execute_result"
    }
   ],
   "source": [
    "\"\"\"Write a Python program to print the following string in a specific format \n",
    "(see the output). \n",
    "Twinkle, twinkle, little star, \n",
    "   How I wonder what you are! \n",
    "      Up above the world so high, \n",
    "      Like a diamond in the sky. Twinkle, twinkle, little star, \n",
    "How I wonder what you are \"\"\""
   ]
  },
  {
   "cell_type": "code",
   "execution_count": 9,
   "metadata": {},
   "outputs": [
    {
     "name": "stdout",
     "output_type": "stream",
     "text": [
      "Twinkle, twinkle, little star,\n",
      "\tHow I wonder what you are!\n",
      "\t\t Up above the world so high,\n",
      "\t\t Like a diamond in the sky. Twinkle, twinkle, little star,\n",
      "How I wonder what you are\n"
     ]
    }
   ],
   "source": [
    "print(\"Twinkle, twinkle, little star,\\n\\tHow I wonder what you are!\\n\\t\\t Up above the world so high,\\n\\t\\t Like a diamond in the sky. Twinkle, twinkle, little star,\\nHow I wonder what you are\")"
   ]
  },
  {
   "cell_type": "code",
   "execution_count": 10,
   "metadata": {},
   "outputs": [
    {
     "name": "stdout",
     "output_type": "stream",
     "text": [
      "2019-11-03 23:25:04.648940\n",
      "2019\n",
      "Sunday\n"
     ]
    }
   ],
   "source": [
    "import datetime\n",
    "x=datetime.datetime.now()\n",
    "print(x)\n",
    "print(x.year)\n",
    "print(x.strftime(\"%A\"))"
   ]
  },
  {
   "cell_type": "code",
   "execution_count": null,
   "metadata": {},
   "outputs": [],
   "source": []
  }
 ],
 "metadata": {
  "kernelspec": {
   "display_name": "Python 3",
   "language": "python",
   "name": "python3"
  },
  "language_info": {
   "codemirror_mode": {
    "name": "ipython",
    "version": 3
   },
   "file_extension": ".py",
   "mimetype": "text/x-python",
   "name": "python",
   "nbconvert_exporter": "python",
   "pygments_lexer": "ipython3",
   "version": "3.7.0"
  }
 },
 "nbformat": 4,
 "nbformat_minor": 2
}
