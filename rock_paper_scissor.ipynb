{
 "cells": [
  {
   "cell_type": "code",
   "execution_count": 1,
   "metadata": {},
   "outputs": [
    {
     "name": "stdout",
     "output_type": "stream",
     "text": [
      "Rock, Paper, Scissors?Paper\n",
      "You win! Paper covers Rock\n",
      "Rock, Paper, Scissors?Rock\n",
      "You win! Rock smashes Scissor\n",
      "Rock, Paper, Scissors?Rock\n",
      "You win! Rock smashes Scissor\n",
      "Rock, Paper, Scissors?Rock\n",
      "You lose! Paper covers Rock\n",
      "Rock, Paper, Scissors?Scissors\n",
      "That's not the right the spelling please try again\n",
      "Rock, Paper, Scissors?Scissor\n",
      "Tie\n",
      "Rock, Paper, Scissors?Scissor\n",
      "Tie\n",
      "Rock, Paper, Scissors?Paper\n",
      "Tie\n",
      "Rock, Paper, Scissors?Paper\n",
      "You lose! Scissor cuts Paper\n",
      "Rock, Paper, Scissors?q\n"
     ]
    }
   ],
   "source": [
    "from random import randint\n",
    "# computer value\n",
    "choices = ['Rock','Paper','Scissor']\n",
    "com_value = choices[randint(0, 2)]\n",
    "while(True):\n",
    "    try:\n",
    "        player = input('Rock, Paper, Scissors?')\n",
    "    except:\n",
    "        ValueError \n",
    "        print('type the right choice')\n",
    "        \n",
    "    if player=='q':\n",
    "        break\n",
    "    else:\n",
    "        if player==com_value:\n",
    "            print('Tie')\n",
    "        elif player == \"Rock\":\n",
    "            if com_value == \"Paper\":\n",
    "                print(\"You lose!\",com_value, \"covers\", player)\n",
    "            else:\n",
    "                print(\"You win!\",player, \"smashes\",com_value)\n",
    "        elif player==\"Scissor\":\n",
    "            if com_value == \"Rock\":\n",
    "                print(\"You lose!\",com_value,\"breaks\",player)\n",
    "            else:\n",
    "                print(\"You win!\",player,\"cuts\",com_value)\n",
    "        elif player==\"Paper\":\n",
    "            if com_value==\"Scissor\":\n",
    "                print(\"You lose!\",com_value,\"cuts\",player)\n",
    "            else:\n",
    "                print(\"You win!\",player,\"covers\",com_value) \n",
    "        else:\n",
    "            print(\"That's not the right the spelling please try again\")\n",
    "    com_value = choices[randint(0, 2)]"
   ]
  },
  {
   "cell_type": "code",
   "execution_count": null,
   "metadata": {},
   "outputs": [],
   "source": []
  }
 ],
 "metadata": {
  "kernelspec": {
   "display_name": "Python 3",
   "language": "python",
   "name": "python3"
  },
  "language_info": {
   "codemirror_mode": {
    "name": "ipython",
    "version": 3
   },
   "file_extension": ".py",
   "mimetype": "text/x-python",
   "name": "python",
   "nbconvert_exporter": "python",
   "pygments_lexer": "ipython3",
   "version": "3.7.0"
  }
 },
 "nbformat": 4,
 "nbformat_minor": 2
}
