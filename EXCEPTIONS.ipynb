{
 "cells": [
  {
   "cell_type": "code",
   "execution_count": 2,
   "metadata": {},
   "outputs": [
    {
     "name": "stdout",
     "output_type": "stream",
     "text": [
      "enter integer3\n",
      "enter integer4\n",
      "enter integer5\n",
      "enter integerf\n",
      "enter only integer\n",
      "enter integerg\n",
      "enter only integer\n",
      "enter integerq\n"
     ]
    }
   ],
   "source": [
    "def error_handling(user_input):\n",
    "    #user_input=input(\"enter integer\")\n",
    "    try:\n",
    "        int(user_input)\n",
    "    except:\n",
    "        ValueError\n",
    "        print(\"enter only integer\")\n",
    "    #return user_input\n",
    "        \n",
    "while(True):\n",
    "    #user_input=int(user_input)\n",
    "    user_input=input(\"enter integer\")\n",
    "    if user_input=='q':\n",
    "        break\n",
    "    else:    \n",
    "        user_input=error_handling(user_input)\n",
    "    \n",
    "    "
   ]
  },
  {
   "cell_type": "code",
   "execution_count": null,
   "metadata": {},
   "outputs": [],
   "source": []
  },
  {
   "cell_type": "code",
   "execution_count": null,
   "metadata": {},
   "outputs": [],
   "source": []
  }
 ],
 "metadata": {
  "kernelspec": {
   "display_name": "Python 3",
   "language": "python",
   "name": "python3"
  },
  "language_info": {
   "codemirror_mode": {
    "name": "ipython",
    "version": 3
   },
   "file_extension": ".py",
   "mimetype": "text/x-python",
   "name": "python",
   "nbconvert_exporter": "python",
   "pygments_lexer": "ipython3",
   "version": "3.7.0"
  }
 },
 "nbformat": 4,
 "nbformat_minor": 2
}
