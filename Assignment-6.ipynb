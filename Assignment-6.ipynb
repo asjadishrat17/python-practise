{
 "cells": [
  {
   "cell_type": "markdown",
   "metadata": {},
   "source": [
    "# Assignment 6\n"
   ]
  },
  {
   "cell_type": "markdown",
   "metadata": {},
   "source": [
    "Q1. Define Object Oriented Programming Language?"
   ]
  },
  {
   "cell_type": "markdown",
   "metadata": {},
   "source": [
    "Object-oriented programming (OOP) refers to a type of computer programming (software design) in which programmers define not only the data type of a data structure, but also the types of operations (functions) that can be applied to the data structure.\n"
   ]
  },
  {
   "cell_type": "markdown",
   "metadata": {},
   "source": [
    "Q2. List down the Benefits of OOP?"
   ]
  },
  {
   "cell_type": "markdown",
   "metadata": {},
   "source": [
    "OOP provides a clear modular structure for programs.\n",
    "1. It is good for defining abstract data types.\n",
    "2. Implementation details are hidden from other modules and other modules has a clearly defined interface.\n",
    "3. It is easy to maintain and modify existing code as new objects can be created with small differences to existing ones.\n",
    "4. objects, methods, instance, message passing, inheritance are some important properties provided by these particular languages\n",
    "5. encapsulation, polymorphism, abstraction are also counts in these fundamentals of programming language.\n",
    "6. It implements real life scenario.\n",
    "7. In OOP, programmer not only defines data types but also deals with operations applied for data structures.\n"
   ]
  },
  {
   "cell_type": "markdown",
   "metadata": {},
   "source": [
    "Q3. Differentiate between function and method? \n"
   ]
  },
  {
   "cell_type": "markdown",
   "metadata": {},
   "source": [
    "Function: A function is a block of code to carry out a specific task, will contain its own scope and is called by name. All functions may contain zero(no) arguments or more than one arguments. On exit, a function can or can not return one or more values.\n",
    "\n",
    "Method: A method in python is somewhat similar to a function, except it is associated with object/classes. Methods in python are very similar to functions except for two major differences."
   ]
  },
  {
   "cell_type": "markdown",
   "metadata": {},
   "source": [
    "Q4. Define the following terms: \n",
    "    1. Class \n",
    "    2. Object \n",
    "    3. Attribute \n",
    "    4. Behavior "
   ]
  },
  {
   "cell_type": "markdown",
   "metadata": {},
   "source": [
    "Class: Classes (OOP) In object-oriented programming, a class is a blueprint for creating objects (a particular data structure), providing initial values for state (member variables or attributes), and implementations of behavior (member functions or methods). The user-defined objects are created using the class keyword.\n",
    "\n",
    "Object: In object-oriented programming (OOP), objects are the things you think about first in designing a program and they are also the units of code that are eventually derived from the process. In between, each object is made into a generic class of object and even more generic classes are defined so that objects can share models and reuse the class definitions in their code. Each object is an instance of a particular class or subclass with the class's own methods or procedures and data variables. An object is what actually runs in the computer.\n",
    "\n",
    "Attribute: In Object-oriented programming(OOP), classes and objects have attributes. Attributes are data stored inside a class or instance and represent the state or quality of the class or instance. ... One can think of attributes as noun or adjective, while methods are the verb of the class.\n",
    "\n",
    "Behavior: A class's behavior determines how an instance of that class operates; for example, how it will \"react\" if asked to do something by another class or object or if its internal state changes. Behavior is the only way objects can do anything to themselves or have anything done to them.\n"
   ]
  },
  {
   "cell_type": "markdown",
   "metadata": {},
   "source": [
    "Q5. Write a code in python in which create a class named it Car which have 5 attributes such like (model, color and name etc.) and 3 methods. And create 5 object instance from that class. \n"
   ]
  },
  {
   "cell_type": "code",
   "execution_count": 17,
   "metadata": {},
   "outputs": [
    {
     "name": "stdout",
     "output_type": "stream",
     "text": [
      "Model is audi a4\n",
      "color is blue\n",
      "Made in the year 1999\n",
      "Made in Germany\n",
      "Car is Sports car\n",
      "Model is ferrari 488\n",
      "color is green\n",
      "Made in the year 2000\n",
      "Made in USA\n",
      "Car is Sports car\n",
      "Model is Mercedes benz\n",
      "color is silver\n",
      "Made in the year 2005\n",
      "Made in Germany\n",
      "Car is Luxury Car\n",
      "Model is BMW 5 series\n",
      "color is white\n",
      "Made in the year 2007\n",
      "Made in Germany\n",
      "Car is Luxury Car\n",
      "Model is toyota corolla gli\n",
      "color is white\n",
      "Made in the year 2013\n",
      "Made in Japan\n",
      "Car is Luxury Car\n",
      "\n",
      "In the form of dictionary its easily readable\n",
      "{'Name': 'Audi A4', 'Color': 'Silver'}\n",
      "\n",
      "In the form of dictionary its easily readable\n",
      "{'Name': 'Ferrari Spyder', 'Color': 'Red'}\n",
      "\n",
      "In the form of dictionary its easily readable\n",
      "{'Name': 'Mercedes Kompressor', 'Color': 'Black'}\n",
      "\n",
      "In the form of dictionary its easily readable\n",
      "{'Name': 'Toyota Corolla', 'Color': 'Silver'}\n",
      "\n",
      "Car models list\n",
      "['GLI', 'XLI', 'Platz', 'Saloon', 'Altis']\n"
     ]
    }
   ],
   "source": [
    "class car():\n",
    "    def __init__(self, model, color, year, madein, car_type): \n",
    "        self.model = model \n",
    "        self.color = color \n",
    "        self.year  = year\n",
    "        self.madein = madein\n",
    "        self.car_type = car_type\n",
    "          \n",
    "    def show(self):\n",
    "        \n",
    "        print(\"Model is\", self.model ) \n",
    "        print(\"color is\", self.color )\n",
    "        print(\"Made in the year\",self.year)\n",
    "        print(\"Made in\",self.madein)\n",
    "        print(\"Car is\",self.car_type)\n",
    "        \n",
    "    def add_values(self,car_dict):\n",
    "        print(\"\\nIn the form of dictionary its easily readable\")\n",
    "        print(car_dict)\n",
    "        \n",
    "    def car_models(self,car_list):\n",
    "        print(\"\\nCar models list\")\n",
    "        print(car_list)\n",
    "        \n",
    "                \n",
    "                \n",
    "audi = car(\"audi a4\", \"blue\",\"1999\",\"Germany\",\"Sports car\") \n",
    "ferrari = car(\"ferrari 488\", \"green\",\"2000\",\"USA\",\"Sports car\")\n",
    "mercedes =car(\"Mercedes benz\",\"silver\",\"2005\",\"Germany\",\"Luxury Car\")\n",
    "bmw=car(\"BMW 5 series\",\"white\",\"2007\",\"Germany\",\"Luxury Car\")\n",
    "toyota=car(\"toyota corolla gli\",\"white\",\"2013\",\"Japan\",\"Luxury Car\")\n",
    "\n",
    "audi.show()     \n",
    "ferrari.show()\n",
    "mercedes.show()\n",
    "bmw.show()\n",
    "toyota.show()\n",
    "\n",
    "audi.add_values({\"Name\":\"Audi A4\",\"Color\":\"Silver\"})\n",
    "ferrari.add_values({\"Name\":\"Ferrari Spyder\",\"Color\":\"Red\"})\n",
    "mercedes.add_values({\"Name\":\"Mercedes Kompressor\",\"Color\":\"Black\"})\n",
    "toyota.add_values({\"Name\":\"Toyota Corolla\",\"Color\":\"Silver\"})\n",
    "\n",
    "\n",
    "toyota.car_models([\"GLI\",\"XLI\",\"Platz\",\"Saloon\",\"Altis\"])\n",
    "\n"
   ]
  },
  {
   "cell_type": "code",
   "execution_count": null,
   "metadata": {},
   "outputs": [],
   "source": []
  }
 ],
 "metadata": {
  "kernelspec": {
   "display_name": "Python 3",
   "language": "python",
   "name": "python3"
  },
  "language_info": {
   "codemirror_mode": {
    "name": "ipython",
    "version": 3
   },
   "file_extension": ".py",
   "mimetype": "text/x-python",
   "name": "python",
   "nbconvert_exporter": "python",
   "pygments_lexer": "ipython3",
   "version": "3.7.0"
  }
 },
 "nbformat": 4,
 "nbformat_minor": 2
}
