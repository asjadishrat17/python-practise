{
 "cells": [
  {
   "cell_type": "markdown",
   "metadata": {},
   "source": [
    "# Assignment 5"
   ]
  },
  {
   "cell_type": "markdown",
   "metadata": {},
   "source": [
    "Q1. Write a Python function to calculate the factorial of a number (a non-negative integer). The function accepts the number as an argument."
   ]
  },
  {
   "cell_type": "code",
   "execution_count": 1,
   "metadata": {},
   "outputs": [
    {
     "name": "stdout",
     "output_type": "stream",
     "text": [
      "enter no for factorial\n",
      "4\n",
      "factorial of 4 is 24\n"
     ]
    }
   ],
   "source": [
    "def factorial(num1):\n",
    "    for i in range(1,num1):\n",
    "        fact=num1*i\n",
    "        num1=fact\n",
    "    print(\"factorial of {} is {}\".format(i+1,fact))\n",
    "\n",
    "def num_test(num1):\n",
    "    try:\n",
    "        factorial(int(num1))\n",
    "    except:\n",
    "        ValueError,TypeError\n",
    "        print(\"number must be integer\")\n",
    "        \n",
    "num1=input(\"enter no for factorial\\n\")\n",
    "num_test(num1)"
   ]
  },
  {
   "cell_type": "markdown",
   "metadata": {},
   "source": [
    "Q2. Write a Python function that accepts a string and calculate the number of upper case letters and lower case letters."
   ]
  },
  {
   "cell_type": "code",
   "execution_count": 1,
   "metadata": {},
   "outputs": [
    {
     "name": "stdout",
     "output_type": "stream",
     "text": [
      "upper = 3\n",
      " lower = 10\n"
     ]
    }
   ],
   "source": [
    "def split(word):\n",
    "    char=[char for char in word ]\n",
    "    return(char)\n",
    "    \n",
    "#word=\"my Name is ASjad\"\n",
    "word=\"my Name is ASjad\"\n",
    "a=split(word)\n",
    "upper=0\n",
    "lower=0\n",
    "for i in range(0,int(len(a))):\n",
    "    #b=a[0:i:]\n",
    "    if ord(a[i])>=65 and ord(a[i]) <=90:\n",
    "        upper=upper + 1\n",
    "    if ord(a[i])>=97 and ord(a[i]) <=122:\n",
    "        lower=lower+1\n",
    "print('upper = {}\\n lower = {}'.format(upper,lower))"
   ]
  },
  {
   "cell_type": "code",
   "execution_count": 2,
   "metadata": {},
   "outputs": [
    {
     "name": "stdout",
     "output_type": "stream",
     "text": [
      "Original String :  My name is Asjad.\n",
      "Upper Char :  2\n",
      "Lower Char :  11\n"
     ]
    }
   ],
   "source": [
    "def string_test(s):\n",
    "    d={\"UPPER_CASE\":0, \"LOWER_CASE\":0}\n",
    "    for c in s:\n",
    "        if c.isupper():\n",
    "            d[\"UPPER_CASE\"]+=1\n",
    "        elif c.islower():\n",
    "            d[\"LOWER_CASE\"]+=1\n",
    "        else:\n",
    "            pass\n",
    "    print (\"Original String : \", s)\n",
    "    print (\"Upper Char : \", d[\"UPPER_CASE\"])\n",
    "    print (\"Lower Char : \", d[\"LOWER_CASE\"])\n",
    "\n",
    "string_test('My name is Asjad.')"
   ]
  },
  {
   "cell_type": "markdown",
   "metadata": {},
   "source": [
    "Q3. Write a Python function to print the even numbers from a given list."
   ]
  },
  {
   "cell_type": "code",
   "execution_count": 3,
   "metadata": {},
   "outputs": [],
   "source": [
    "def even_numbers(list1):\n",
    "    \n",
    "    even_numbers=[]\n",
    "    other_numbers=[]\n",
    "    \n",
    "    for i in list1:\n",
    "        if i%2==0:\n",
    "            even_numbers.append(i)\n",
    "        else:\n",
    "            other_numbers.append(i)\n",
    "\n",
    "    print(\"------EVEN NUMBERS-------\")\n",
    "    print(even_numbers)\n",
    "    print(\"------OTHER NUMBERS------\")\n",
    "    print(other_numbers)\n"
   ]
  },
  {
   "cell_type": "code",
   "execution_count": 5,
   "metadata": {},
   "outputs": [
    {
     "name": "stdout",
     "output_type": "stream",
     "text": [
      "------EVEN NUMBERS-------\n",
      "[2, 4, 6, 8, 10]\n",
      "------OTHER NUMBERS------\n",
      "[5, 9]\n"
     ]
    }
   ],
   "source": [
    "even_numbers([2,4,5,6,8,9,10])"
   ]
  },
  {
   "cell_type": "markdown",
   "metadata": {},
   "source": [
    "Q4. Write a Python function that checks whether a passed string is palindrome or not. Note: A palindrome is a word, phrase, or sequence that reads the same backward as forward, e.g., madam"
   ]
  },
  {
   "cell_type": "code",
   "execution_count": 6,
   "metadata": {},
   "outputs": [
    {
     "name": "stdout",
     "output_type": "stream",
     "text": [
      "True\n"
     ]
    }
   ],
   "source": [
    "def isPalindrome(string):\n",
    "    left_pos = 0\n",
    "    right_pos = len(string) - 1\n",
    "\n",
    "    while right_pos >= left_pos:\n",
    "        if not string[left_pos] == string[right_pos]:\n",
    "            return False\n",
    "        left_pos += 1\n",
    "        right_pos -= 1\n",
    "    return True\n",
    "print(isPalindrome('madam'))"
   ]
  },
  {
   "cell_type": "markdown",
   "metadata": {},
   "source": [
    "Q5. Write a Python function that takes a number as a parameter and check the number is prime or not."
   ]
  },
  {
   "cell_type": "code",
   "execution_count": 7,
   "metadata": {},
   "outputs": [
    {
     "name": "stdout",
     "output_type": "stream",
     "text": [
      "True\n"
     ]
    }
   ],
   "source": [
    "def test_prime(n):\n",
    "    if n==1:\n",
    "        return False\n",
    "    elif n==2:\n",
    "        return True;\n",
    "    else:\n",
    "        for x in range(2,n):\n",
    "            if n % x==0:\n",
    "                return False\n",
    "        return True             \n",
    "print(test_prime(31))"
   ]
  },
  {
   "cell_type": "markdown",
   "metadata": {},
   "source": [
    "Q6. Suppose a customer is shopping in a market and you need to print all the items which user bought from market. Write a function which accepts the multiple arguments of user shopping list and print all the items which user bought from market."
   ]
  },
  {
   "cell_type": "code",
   "execution_count": null,
   "metadata": {},
   "outputs": [
    {
     "name": "stdout",
     "output_type": "stream",
     "text": [
      "\n",
      "========Shopping Basket Options ========\n",
      "\n",
      "1.Add items\n",
      "2.View items\n",
      "3.Delete items\n",
      "4.Exit\n",
      "\n",
      "select any option:1\n",
      "Enter the item:Chocolate\n",
      "Enter the quantity:6\n",
      "Item Successfully Added\n",
      "\n",
      "========Shopping Basket Options ========\n",
      "\n",
      "1.Add items\n",
      "2.View items\n",
      "3.Delete items\n",
      "4.Exit\n",
      "\n",
      "select any option:1\n",
      "Enter the item:Apples\n",
      "Enter the quantity:5\n",
      "Item Successfully Added\n",
      "\n",
      "========Shopping Basket Options ========\n",
      "\n",
      "1.Add items\n",
      "2.View items\n",
      "3.Delete items\n",
      "4.Exit\n",
      "\n",
      "select any option:1\n",
      "Enter the item:Bananas\n",
      "Enter the quantity:8\n",
      "Item Successfully Added\n",
      "\n",
      "========Shopping Basket Options ========\n",
      "\n",
      "1.Add items\n",
      "2.View items\n",
      "3.Delete items\n",
      "4.Exit\n",
      "\n",
      "select any option:2\n",
      "Items List\n",
      "Chocolate:6\n",
      "Apples:5\n",
      "Bananas:8\n",
      "\n",
      "========Shopping Basket Options ========\n",
      "\n",
      "1.Add items\n",
      "2.View items\n",
      "3.Delete items\n",
      "4.Exit\n",
      "\n",
      "select any option:3\n",
      "Enter the item name you want to delete:Apples\n",
      "successfully delete Apples\n",
      "\n",
      "========Shopping Basket Options ========\n",
      "\n",
      "1.Add items\n",
      "2.View items\n",
      "3.Delete items\n",
      "4.Exit\n",
      "\n",
      "select any option:2\n",
      "Items List\n",
      "Chocolate:6\n",
      "Bananas:8\n",
      "\n",
      "========Shopping Basket Options ========\n",
      "\n",
      "1.Add items\n",
      "2.View items\n",
      "3.Delete items\n",
      "4.Exit\n"
     ]
    }
   ],
   "source": [
    "def add_items(items_list):\n",
    "    item_name=input(\"Enter the item:\")\n",
    "    item_quantity=int(input(\"Enter the quantity:\"))\n",
    "    items_list.update({item_name : item_quantity})\n",
    "    print(\"Item Successfully Added\")\n",
    "\n",
    "def view_items(items_list):\n",
    "    print(\"Items List\")\n",
    "    for item_name,item_quantity in items_list.items():\n",
    "        if item_name in items_list:\n",
    "            print(\"{}:{}\".format(item_name,item_quantity))\n",
    "        else:\n",
    "            print(\"no data found\")\n",
    "\n",
    "def delete_items(items_list):\n",
    "    del_item=input(\"Enter the item name you want to delete:\")\n",
    "    if del_item in items_list:\n",
    "        items_list.pop(del_item)\n",
    "        print(\"successfully delete {}\".format(del_item))\n",
    "    else:\n",
    "        print(\"no data found\")\n",
    "\n",
    "def isInteger(userInput):\n",
    "    try:\n",
    "        int(userInput)\n",
    "        return True\n",
    "    except ValueError:\n",
    "        return False\n",
    "\n",
    "def menu_item(menu):\n",
    "    print(\"\\n========Shopping Basket Options ========\\n\")\n",
    "    for menuIndex,menuName in menu.items():\n",
    "        print(\"{}.{}\".format(menuIndex,menuName))\n",
    "    userInput=int(input(\"\\nselect any option:\"))\n",
    "    return userInput\n",
    "\n",
    "menu={1:\"Add items\",\n",
    "     2:\"View items\",\n",
    "     3:\"Delete items\",\n",
    "     4:\"Exit\"}\n",
    "\n",
    "items_list={}\n",
    "\n",
    "while(True):\n",
    "    userInput=menu_item(menu)\n",
    "    if isInteger(userInput)== True:\n",
    "        userInput=int(userInput)\n",
    "        if userInput > 0 and userInput <= 4:\n",
    "            if userInput == 1:\n",
    "                add_items(items_list)\n",
    "            elif userInput==2:\n",
    "                view_items(items_list)\n",
    "            elif userInput==3:\n",
    "                delete_items(items_list)\n",
    "            elif userInput==4:\n",
    "                 break;\n",
    "            else:\n",
    "                print(\"you enter wrong choice\")\n",
    "        else:\n",
    "            print(\"value must be an integer\")\n",
    "    else:\n",
    "        print(\"invalid value , value must be integer\")"
   ]
  },
  {
   "cell_type": "code",
   "execution_count": null,
   "metadata": {},
   "outputs": [],
   "source": []
  }
 ],
 "metadata": {
  "kernelspec": {
   "display_name": "Python 3",
   "language": "python",
   "name": "python3"
  },
  "language_info": {
   "codemirror_mode": {
    "name": "ipython",
    "version": 3
   },
   "file_extension": ".py",
   "mimetype": "text/x-python",
   "name": "python",
   "nbconvert_exporter": "python",
   "pygments_lexer": "ipython3",
   "version": "3.7.0"
  }
 },
 "nbformat": 4,
 "nbformat_minor": 2
}
